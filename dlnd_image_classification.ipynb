{
 "cells": [
  {
   "cell_type": "markdown",
   "metadata": {
    "collapsed": true
   },
   "source": [
    "# Image Classification\n",
    "In this project, you'll classify images from the [CIFAR-10 dataset](https://www.cs.toronto.edu/~kriz/cifar.html).  The dataset consists of airplanes, dogs, cats, and other objects. You'll preprocess the images, then train a convolutional neural network on all the samples. The images need to be normalized and the labels need to be one-hot encoded.  You'll get to apply what you learned and build a convolutional, max pooling, dropout, and fully connected layers.  At the end, you'll get to see your neural network's predictions on the sample images.\n",
    "## Get the Data\n",
    "Run the following cell to download the [CIFAR-10 dataset for python](https://www.cs.toronto.edu/~kriz/cifar-10-python.tar.gz)."
   ]
  },
  {
   "cell_type": "code",
   "execution_count": 1,
   "metadata": {},
   "outputs": [
    {
     "name": "stderr",
     "output_type": "stream",
     "text": [
      "CIFAR-10 Dataset: 171MB [03:48, 869KB/s]                               \n"
     ]
    },
    {
     "name": "stdout",
     "output_type": "stream",
     "text": [
      "All files found!\n"
     ]
    }
   ],
   "source": [
    "\"\"\"\n",
    "DON'T MODIFY ANYTHING IN THIS CELL THAT IS BELOW THIS LINE\n",
    "\"\"\"\n",
    "from urllib.request import urlretrieve\n",
    "from os.path import isfile, isdir\n",
    "from tqdm import tqdm\n",
    "import problem_unittests as tests\n",
    "import tarfile\n",
    "\n",
    "cifar10_dataset_folder_path = 'cifar-10-batches-py'\n",
    "\n",
    "# Use Floyd's cifar-10 dataset if present\n",
    "floyd_cifar10_location = '/input/cifar-10/python.tar.gz'\n",
    "if isfile(floyd_cifar10_location):\n",
    "    tar_gz_path = floyd_cifar10_location\n",
    "else:\n",
    "    tar_gz_path = 'cifar-10-python.tar.gz'\n",
    "\n",
    "class DLProgress(tqdm):\n",
    "    last_block = 0\n",
    "\n",
    "    def hook(self, block_num=1, block_size=1, total_size=None):\n",
    "        self.total = total_size\n",
    "        self.update((block_num - self.last_block) * block_size)\n",
    "        self.last_block = block_num\n",
    "\n",
    "if not isfile(tar_gz_path):\n",
    "    with DLProgress(unit='B', unit_scale=True, miniters=1, desc='CIFAR-10 Dataset') as pbar:\n",
    "        urlretrieve(\n",
    "            'https://www.cs.toronto.edu/~kriz/cifar-10-python.tar.gz',\n",
    "            tar_gz_path,\n",
    "            pbar.hook)\n",
    "\n",
    "if not isdir(cifar10_dataset_folder_path):\n",
    "    with tarfile.open(tar_gz_path) as tar:\n",
    "        tar.extractall()\n",
    "        tar.close()\n",
    "\n",
    "\n",
    "tests.test_folder_path(cifar10_dataset_folder_path)"
   ]
  },
  {
   "cell_type": "markdown",
   "metadata": {},
   "source": [
    "## Explore the Data\n",
    "The dataset is broken into batches to prevent your machine from running out of memory.  The CIFAR-10 dataset consists of 5 batches, named `data_batch_1`, `data_batch_2`, etc.. Each batch contains the labels and images that are one of the following:\n",
    "* airplane\n",
    "* automobile\n",
    "* bird\n",
    "* cat\n",
    "* deer\n",
    "* dog\n",
    "* frog\n",
    "* horse\n",
    "* ship\n",
    "* truck\n",
    "\n",
    "Understanding a dataset is part of making predictions on the data.  Play around with the code cell below by changing the `batch_id` and `sample_id`. The `batch_id` is the id for a batch (1-5). The `sample_id` is the id for a image and label pair in the batch.\n",
    "\n",
    "Ask yourself \"What are all possible labels?\", \"What is the range of values for the image data?\", \"Are the labels in order or random?\".  Answers to questions like these will help you preprocess the data and end up with better predictions."
   ]
  },
  {
   "cell_type": "code",
   "execution_count": 2,
   "metadata": {},
   "outputs": [
    {
     "name": "stdout",
     "output_type": "stream",
     "text": [
      "\n",
      "Stats of batch 1:\n",
      "Samples: 10000\n",
      "Label Counts: {0: 1005, 1: 974, 2: 1032, 3: 1016, 4: 999, 5: 937, 6: 1030, 7: 1001, 8: 1025, 9: 981}\n",
      "First 20 Labels: [6, 9, 9, 4, 1, 1, 2, 7, 8, 3, 4, 7, 7, 2, 9, 9, 9, 3, 2, 6]\n",
      "\n",
      "Example of Image 1:\n",
      "Image - Min Value: 5 Max Value: 254\n",
      "Image - Shape: (32, 32, 3)\n",
      "Label - Label Id: 9 Name: truck\n"
     ]
    },
    {
     "data": {
      "image/png": "[encoded data removed]",
      "text/plain": [
       "<matplotlib.figure.Figure at 0x7f83ce2feeb8>"
      ]
     },
     "metadata": {
      "image/png": {
       "height": 250,
       "width": 253
      }
     },
     "output_type": "display_data"
    }
   ],
   "source": [
    "%matplotlib inline\n",
    "%config InlineBackend.figure_format = 'retina'\n",
    "\n",
    "import helper\n",
    "import numpy as np\n",
    "\n",
    "# Explore the dataset\n",
    "batch_id = 1\n",
    "sample_id = 1\n",
    "helper.display_stats(cifar10_dataset_folder_path, batch_id, sample_id)"
   ]
  },
  {
   "cell_type": "markdown",
   "metadata": {},
   "source": [
    "## Implement Preprocess Functions\n",
    "### Normalize\n",
    "In the cell below, implement the `normalize` function to take in image data, `x`, and return it as a normalized Numpy array. The values should be in the range of 0 to 1, inclusive.  The return object should be the same shape as `x`."
   ]
  },
  {
   "cell_type": "code",
   "execution_count": 3,
   "metadata": {},
   "outputs": [
    {
     "name": "stdout",
     "output_type": "stream",
     "text": [
      "Tests Passed\n"
     ]
    }
   ],
   "source": [
    "def normalize(x):\n",
    "    \"\"\"\n",
    "    Normalize a list of sample image data in the range of 0 to 1\n",
    "    : x: List of image data.  The image shape is (32, 32, 3)\n",
    "    : return: Numpy array of normalize data\n",
    "    \"\"\"\n",
    "    # DONE: Implement Function\n",
    "    return x/255\n",
    "\n",
    "\n",
    "\"\"\"\n",
    "DON'T MODIFY ANYTHING IN THIS CELL THAT IS BELOW THIS LINE\n",
    "\"\"\"\n",
    "tests.test_normalize(normalize)"
   ]
  },
  {
   "cell_type": "markdown",
   "metadata": {},
   "source": [
    "### One-hot encode\n",
    "Just like the previous code cell, you'll be implementing a function for preprocessing.  This time, you'll implement the `one_hot_encode` function. The input, `x`, are a list of labels.  Implement the function to return the list of labels as One-Hot encoded Numpy array.  The possible values for labels are 0 to 9. The one-hot encoding function should return the same encoding for each value between each call to `one_hot_encode`.  Make sure to save the map of encodings outside the function.\n",
    "\n",
    "Hint: Don't reinvent the wheel."
   ]
  },
  {
   "cell_type": "code",
   "execution_count": 4,
   "metadata": {},
   "outputs": [
    {
     "name": "stdout",
     "output_type": "stream",
     "text": [
      "Tests Passed\n"
     ]
    }
   ],
   "source": [
    "def one_hot_encode(x):\n",
    "    \"\"\"\n",
    "    One hot encode a list of sample labels. Return a one-hot encoded vector for each label.\n",
    "    : x: List of sample Labels\n",
    "    : return: Numpy array of one-hot encoded labels\n",
    "    \"\"\"\n",
    "    # DONE: Implement Function\n",
    "    count = len(x)\n",
    "    output = np.zeros((count,10))\n",
    "    output[np.arange(count),x] = 1\n",
    "    return output\n",
    "\n",
    "\n",
    "\"\"\"\n",
    "DON'T MODIFY ANYTHING IN THIS CELL THAT IS BELOW THIS LINE\n",
    "\"\"\"\n",
    "tests.test_one_hot_encode(one_hot_encode)"
   ]
  },
  {
   "cell_type": "markdown",
   "metadata": {},
   "source": [
    "### Randomize Data\n",
    "As you saw from exploring the data above, the order of the samples are randomized.  It doesn't hurt to randomize it again, but you don't need to for this dataset."
   ]
  },
  {
   "cell_type": "markdown",
   "metadata": {},
   "source": [
    "## Preprocess all the data and save it\n",
    "Running the code cell below will preprocess all the CIFAR-10 data and save it to file. The code below also uses 10% of the training data for validation."
   ]
  },
  {
   "cell_type": "code",
   "execution_count": 5,
   "metadata": {
    "collapsed": true
   },
   "outputs": [],
   "source": [
    "\"\"\"\n",
    "DON'T MODIFY ANYTHING IN THIS CELL\n",
    "\"\"\"\n",
    "# Preprocess Training, Validation, and Testing Data\n",
    "helper.preprocess_and_save_data(cifar10_dataset_folder_path, normalize, one_hot_encode)"
   ]
  },
  {
   "cell_type": "markdown",
   "metadata": {},
   "source": [
    "# Check Point\n",
    "This is your first checkpoint.  If you ever decide to come back to this notebook or have to restart the notebook, you can start from here.  The preprocessed data has been saved to disk."
   ]
  },
  {
   "cell_type": "code",
   "execution_count": 6,
   "metadata": {
    "collapsed": true
   },
   "outputs": [],
   "source": [
    "\"\"\"\n",
    "DON'T MODIFY ANYTHING IN THIS CELL\n",
    "\"\"\"\n",
    "import pickle\n",
    "import problem_unittests as tests\n",
    "import helper\n",
    "\n",
    "# Load the Preprocessed Validation data\n",
    "valid_features, valid_labels = pickle.load(open('preprocess_validation.p', mode='rb'))"
   ]
  },
  {
   "cell_type": "markdown",
   "metadata": {},
   "source": [
    "## Build the network\n",
    "For the neural network, you'll build each layer into a function.  Most of the code you've seen has been outside of functions. To test your code more thoroughly, we require that you put each layer in a function.  This allows us to give you better feedback and test for simple mistakes using our unittests before you submit your project.\n",
    "\n",
    ">**Note:** If you're finding it hard to dedicate enough time for this course each week, we've provided a small shortcut to this part of the project. In the next couple of problems, you'll have the option to use classes from the [TensorFlow Layers](https://www.tensorflow.org/api_docs/python/tf/layers) or [TensorFlow Layers (contrib)](https://www.tensorflow.org/api_guides/python/contrib.layers) packages to build each layer, except the layers you build in the \"Convolutional and Max Pooling Layer\" section.  TF Layers is similar to Keras's and TFLearn's abstraction to layers, so it's easy to pickup.\n",
    "\n",
    ">However, if you would like to get the most out of this course, try to solve all the problems _without_ using anything from the TF Layers packages. You **can** still use classes from other packages that happen to have the same name as ones you find in TF Layers! For example, instead of using the TF Layers version of the `conv2d` class, [tf.layers.conv2d](https://www.tensorflow.org/api_docs/python/tf/layers/conv2d), you would want to use the TF Neural Network version of `conv2d`, [tf.nn.conv2d](https://www.tensorflow.org/api_docs/python/tf/nn/conv2d). \n",
    "\n",
    "Let's begin!\n",
    "\n",
    "### Input\n",
    "The neural network needs to read the image data, one-hot encoded labels, and dropout keep probability. Implement the following functions\n",
    "* Implement `neural_net_image_input`\n",
    " * Return a [TF Placeholder](https://www.tensorflow.org/api_docs/python/tf/placeholder)\n",
    " * Set the shape using `image_shape` with batch size set to `None`.\n",
    " * Name the TensorFlow placeholder \"x\" using the TensorFlow `name` parameter in the [TF Placeholder](https://www.tensorflow.org/api_docs/python/tf/placeholder).\n",
    "* Implement `neural_net_label_input`\n",
    " * Return a [TF Placeholder](https://www.tensorflow.org/api_docs/python/tf/placeholder)\n",
    " * Set the shape using `n_classes` with batch size set to `None`.\n",
    " * Name the TensorFlow placeholder \"y\" using the TensorFlow `name` parameter in the [TF Placeholder](https://www.tensorflow.org/api_docs/python/tf/placeholder).\n",
    "* Implement `neural_net_keep_prob_input`\n",
    " * Return a [TF Placeholder](https://www.tensorflow.org/api_docs/python/tf/placeholder) for dropout keep probability.\n",
    " * Name the TensorFlow placeholder \"keep_prob\" using the TensorFlow `name` parameter in the [TF Placeholder](https://www.tensorflow.org/api_docs/python/tf/placeholder).\n",
    "\n",
    "These names will be used at the end of the project to load your saved model.\n",
    "\n",
    "Note: `None` for shapes in TensorFlow allow for a dynamic size."
   ]
  },
  {
   "cell_type": "code",
   "execution_count": 7,
   "metadata": {},
   "outputs": [
    {
     "name": "stdout",
     "output_type": "stream",
     "text": [
      "Image Input Tests Passed.\n",
      "Label Input Tests Passed.\n",
      "Keep Prob Tests Passed.\n"
     ]
    }
   ],
   "source": [
    "import tensorflow as tf\n",
    "\n",
    "def neural_net_image_input(image_shape):\n",
    "    \"\"\"\n",
    "    Return a Tensor for a batch of image input\n",
    "    : image_shape: Shape of the images\n",
    "    : return: Tensor for image input.\n",
    "    \"\"\"\n",
    "    # DONE: Implement Function\n",
    "    return tf.placeholder(tf.float32, shape=(None,image_shape[0],image_shape[1],image_shape[2]), name=\"x\")\n",
    "\n",
    "\n",
    "def neural_net_label_input(n_classes):\n",
    "    \"\"\"\n",
    "    Return a Tensor for a batch of label input\n",
    "    : n_classes: Number of classes\n",
    "    : return: Tensor for label input.\n",
    "    \"\"\"\n",
    "    # DONE: Implement Function\n",
    "    return tf.placeholder(tf.float32, shape=(None,n_classes), name=\"y\")\n",
    "\n",
    "\n",
    "def neural_net_keep_prob_input():\n",
    "    \"\"\"\n",
    "    Return a Tensor for keep probability\n",
    "    : return: Tensor for keep probability.\n",
    "    \"\"\"\n",
    "    # DONE: Implement Function\n",
    "    return tf.placeholder(tf.float32, name=\"keep_prob\")\n",
    "\n",
    "\n",
    "\"\"\"\n",
    "DON'T MODIFY ANYTHING IN THIS CELL THAT IS BELOW THIS LINE\n",
    "\"\"\"\n",
    "tf.reset_default_graph()\n",
    "tests.test_nn_image_inputs(neural_net_image_input)\n",
    "tests.test_nn_label_inputs(neural_net_label_input)\n",
    "tests.test_nn_keep_prob_inputs(neural_net_keep_prob_input)"
   ]
  },
  {
   "cell_type": "markdown",
   "metadata": {},
   "source": [
    "### Convolution and Max Pooling Layer\n",
    "Convolution layers have a lot of success with images. For this code cell, you should implement the function `conv2d_maxpool` to apply convolution then max pooling:\n",
    "* Create the weight and bias using `conv_ksize`, `conv_num_outputs` and the shape of `x_tensor`.\n",
    "* Apply a convolution to `x_tensor` using weight and `conv_strides`.\n",
    " * We recommend you use same padding, but you're welcome to use any padding.\n",
    "* Add bias\n",
    "* Add a nonlinear activation to the convolution.\n",
    "* Apply Max Pooling using `pool_ksize` and `pool_strides`.\n",
    " * We recommend you use same padding, but you're welcome to use any padding.\n",
    "\n",
    "**Note:** You **can't** use [TensorFlow Layers](https://www.tensorflow.org/api_docs/python/tf/layers) or [TensorFlow Layers (contrib)](https://www.tensorflow.org/api_guides/python/contrib.layers) for **this** layer, but you can still use TensorFlow's [Neural Network](https://www.tensorflow.org/api_docs/python/tf/nn) package. You may still use the shortcut option for all the **other** layers."
   ]
  },
  {
   "cell_type": "code",
   "execution_count": 8,
   "metadata": {},
   "outputs": [
    {
     "name": "stdout",
     "output_type": "stream",
     "text": [
      "Tests Passed\n"
     ]
    }
   ],
   "source": [
    "def conv2d_maxpool(x_tensor, conv_num_outputs, conv_ksize, conv_strides, pool_ksize, pool_strides):\n",
    "    \"\"\"\n",
    "    Apply convolution then max pooling to x_tensor\n",
    "    :param x_tensor: TensorFlow Tensor\n",
    "    :param conv_num_outputs: Number of outputs for the convolutional layer\n",
    "    :param conv_ksize: kernal size 2-D Tuple for the convolutional layer\n",
    "    :param conv_strides: Stride 2-D Tuple for convolution\n",
    "    :param pool_ksize: kernal size 2-D Tuple for pool\n",
    "    :param pool_strides: Stride 2-D Tuple for pool\n",
    "    : return: A tensor that represents convolution and max pooling of x_tensor\n",
    "    \"\"\"\n",
    "    # DONE: Implement Function\n",
    "    x_shape = x_tensor.shape\n",
    "    stddev = 1.0/np.sqrt(x_shape[1].value*x_shape[2].value*x_shape[3].value*1.0)\n",
    "    w = tf.Variable(tf.truncated_normal((conv_ksize[0],conv_ksize[1],x_shape[3].value,conv_num_outputs),stddev=stddev))\n",
    "    b = tf.Variable(tf.zeros(conv_num_outputs))\n",
    "    \n",
    "    conv_strides = [1,conv_strides[0],conv_strides[1],1]\n",
    "    conv_padding = 'SAME'\n",
    "    \n",
    "    pool_ksize = [1,pool_ksize[0],pool_ksize[1],1]\n",
    "    pool_strides = [1,pool_strides[0],pool_strides[1],1]\n",
    "    pool_padding = 'SAME'\n",
    "    \n",
    "    # Convolution\n",
    "    conv = tf.nn.conv2d(x_tensor,w,conv_strides,conv_padding)\n",
    "    conv = tf.nn.bias_add(conv,b)\n",
    "    \n",
    "    # Relu\n",
    "    conv = tf.nn.relu(conv)\n",
    "    \n",
    "    # Max pooling\n",
    "    conv = tf.nn.max_pool(conv,pool_ksize,pool_strides,pool_padding)\n",
    "    \n",
    "    return conv\n",
    "\n",
    "\"\"\"\n",
    "DON'T MODIFY ANYTHING IN THIS CELL THAT IS BELOW THIS LINE\n",
    "\"\"\"\n",
    "tests.test_con_pool(conv2d_maxpool)"
   ]
  },
  {
   "cell_type": "markdown",
   "metadata": {},
   "source": [
    "### Flatten Layer\n",
    "Implement the `flatten` function to change the dimension of `x_tensor` from a 4-D tensor to a 2-D tensor.  The output should be the shape (*Batch Size*, *Flattened Image Size*). Shortcut option: you can use classes from the [TensorFlow Layers](https://www.tensorflow.org/api_docs/python/tf/layers) or [TensorFlow Layers (contrib)](https://www.tensorflow.org/api_guides/python/contrib.layers) packages for this layer. For more of a challenge, only use other TensorFlow packages."
   ]
  },
  {
   "cell_type": "code",
   "execution_count": 9,
   "metadata": {},
   "outputs": [
    {
     "name": "stdout",
     "output_type": "stream",
     "text": [
      "Tests Passed\n"
     ]
    }
   ],
   "source": [
    "def flatten(x_tensor):\n",
    "    \"\"\"\n",
    "    Flatten x_tensor to (Batch Size, Flattened Image Size)\n",
    "    : x_tensor: A tensor of size (Batch Size, ...), where ... are the image dimensions.\n",
    "    : return: A tensor of size (Batch Size, Flattened Image Size).\n",
    "    \"\"\"\n",
    "    # DONE: Implement Function\n",
    "    x_shape = x_tensor.shape\n",
    "    return tf.reshape(x_tensor, [tf.shape(x_tensor)[0],x_shape[1].value*x_shape[2].value*x_shape[3].value])\n",
    "\n",
    "\n",
    "\"\"\"\n",
    "DON'T MODIFY ANYTHING IN THIS CELL THAT IS BELOW THIS LINE\n",
    "\"\"\"\n",
    "tests.test_flatten(flatten)"
   ]
  },
  {
   "cell_type": "markdown",
   "metadata": {},
   "source": [
    "### Fully-Connected Layer\n",
    "Implement the `fully_conn` function to apply a fully connected layer to `x_tensor` with the shape (*Batch Size*, *num_outputs*). Shortcut option: you can use classes from the [TensorFlow Layers](https://www.tensorflow.org/api_docs/python/tf/layers) or [TensorFlow Layers (contrib)](https://www.tensorflow.org/api_guides/python/contrib.layers) packages for this layer. For more of a challenge, only use other TensorFlow packages."
   ]
  },
  {
   "cell_type": "code",
   "execution_count": 10,
   "metadata": {},
   "outputs": [
    {
     "name": "stdout",
     "output_type": "stream",
     "text": [
      "Tests Passed\n"
     ]
    }
   ],
   "source": [
    "def fully_conn(x_tensor, num_outputs):\n",
    "    \"\"\"\n",
    "    Apply a fully connected layer to x_tensor using weight and bias\n",
    "    : x_tensor: A 2-D tensor where the first dimension is batch size.\n",
    "    : num_outputs: The number of output that the new tensor should be.\n",
    "    : return: A 2-D tensor where the second dimension is num_outputs.\n",
    "    \"\"\"\n",
    "    # DONE: Implement Function\n",
    "    x_shape = x_tensor.shape\n",
    "    stddev = 1.0/np.sqrt(x_shape[1].value)\n",
    "    w = tf.Variable(tf.truncated_normal((x_shape[1].value,num_outputs),stddev=stddev))\n",
    "    b = tf.Variable(tf.zeros(num_outputs))\n",
    "    tensor = tf.add(tf.matmul(x_tensor,w),b)\n",
    "    \n",
    "    # Relu\n",
    "    tensor = tf.nn.relu(tensor)\n",
    "    \n",
    "    return tensor\n",
    "\n",
    "\n",
    "\"\"\"\n",
    "DON'T MODIFY ANYTHING IN THIS CELL THAT IS BELOW THIS LINE\n",
    "\"\"\"\n",
    "tests.test_fully_conn(fully_conn)"
   ]
  },
  {
   "cell_type": "markdown",
   "metadata": {},
   "source": [
    "### Output Layer\n",
    "Implement the `output` function to apply a fully connected layer to `x_tensor` with the shape (*Batch Size*, *num_outputs*). Shortcut option: you can use classes from the [TensorFlow Layers](https://www.tensorflow.org/api_docs/python/tf/layers) or [TensorFlow Layers (contrib)](https://www.tensorflow.org/api_guides/python/contrib.layers) packages for this layer. For more of a challenge, only use other TensorFlow packages.\n",
    "\n",
    "**Note:** Activation, softmax, or cross entropy should **not** be applied to this."
   ]
  },
  {
   "cell_type": "code",
   "execution_count": 11,
   "metadata": {},
   "outputs": [
    {
     "name": "stdout",
     "output_type": "stream",
     "text": [
      "Tests Passed\n"
     ]
    }
   ],
   "source": [
    "def output(x_tensor, num_outputs):\n",
    "    \"\"\"\n",
    "    Apply a output layer to x_tensor using weight and bias\n",
    "    : x_tensor: A 2-D tensor where the first dimension is batch size.\n",
    "    : num_outputs: The number of output that the new tensor should be.\n",
    "    : return: A 2-D tensor where the second dimension is num_outputs.\n",
    "    \"\"\"\n",
    "    # DONE: Implement Function\n",
    "    x_shape = x_tensor.shape\n",
    "    stddev = 1.0/np.sqrt(x_shape[1].value)\n",
    "    w = tf.Variable(tf.truncated_normal((x_shape[1].value,num_outputs),stddev=stddev))\n",
    "    b = tf.Variable(tf.zeros(num_outputs))\n",
    "    return tf.add(tf.matmul(x_tensor,w),b)\n",
    "\n",
    "\n",
    "\"\"\"\n",
    "DON'T MODIFY ANYTHING IN THIS CELL THAT IS BELOW THIS LINE\n",
    "\"\"\"\n",
    "tests.test_output(output)"
   ]
  },
  {
   "cell_type": "markdown",
   "metadata": {},
   "source": [
    "### Create Convolutional Model\n",
    "Implement the function `conv_net` to create a convolutional neural network model. The function takes in a batch of images, `x`, and outputs logits.  Use the layers you created above to create this model:\n",
    "\n",
    "* Apply 1, 2, or 3 Convolution and Max Pool layers\n",
    "* Apply a Flatten Layer\n",
    "* Apply 1, 2, or 3 Fully Connected Layers\n",
    "* Apply an Output Layer\n",
    "* Return the output\n",
    "* Apply [TensorFlow's Dropout](https://www.tensorflow.org/api_docs/python/tf/nn/dropout) to one or more layers in the model using `keep_prob`. "
   ]
  },
  {
   "cell_type": "code",
   "execution_count": 24,
   "metadata": {},
   "outputs": [
    {
     "name": "stdout",
     "output_type": "stream",
     "text": [
      "Neural Network Built!\n"
     ]
    }
   ],
   "source": [
    "def conv_net(x, keep_prob):\n",
    "    \"\"\"\n",
    "    Create a convolutional neural network model\n",
    "    : x: Placeholder tensor that holds image data.\n",
    "    : keep_prob: Placeholder tensor that hold dropout keep probability.\n",
    "    : return: Tensor that represents logits\n",
    "    \"\"\"\n",
    "    # DONE: Apply 1, 2, or 3 Convolution and Max Pool layers\n",
    "    #    Play around with different number of outputs, kernel size and stride\n",
    "    # Function Definition from Above:\n",
    "    #    conv2d_maxpool(x_tensor, conv_num_outputs, conv_ksize, conv_strides, pool_ksize, pool_strides)\n",
    "    \n",
    "    conv_num_outputs_1 = 40\n",
    "    conv_ksize_1 = (3,3)\n",
    "    conv_strides_1 = (1,1)\n",
    "    pool_ksize_1 = (2,2)\n",
    "    pool_strides_1 = (2,2)\n",
    "    \n",
    "    conv_num_outputs_2 = 80\n",
    "    conv_ksize_2 = (3,3)\n",
    "    conv_strides_2 = (1,1)\n",
    "    pool_ksize_2 = (2,2)\n",
    "    pool_strides_2 = (2,2)\n",
    "    \n",
    "    conv_num_outputs_3 = 160\n",
    "    conv_ksize_3 = (3,3)\n",
    "    conv_strides_3 = (1,1)\n",
    "    pool_ksize_3 = (2,2)\n",
    "    pool_strides_3 = (2,2)\n",
    "    \n",
    "    \n",
    "    tensor = conv2d_maxpool(x, conv_num_outputs_1, conv_ksize_1, conv_strides_1, pool_ksize_1, pool_strides_1)\n",
    "    tensor = conv2d_maxpool(tensor, conv_num_outputs_2, conv_ksize_2, conv_strides_2, pool_ksize_2, pool_strides_2)\n",
    "    tensor = conv2d_maxpool(tensor, conv_num_outputs_3, conv_ksize_3, conv_strides_3, pool_ksize_3, pool_strides_3)\n",
    "\n",
    "    # DONE: Apply a Flatten Layer\n",
    "    # Function Definition from Above:\n",
    "    #   flatten(x_tensor)\n",
    "    tensor = flatten(tensor)\n",
    "    tensor = tf.nn.dropout(tensor, keep_prob)\n",
    "\n",
    "    # DONE: Apply 1, 2, or 3 Fully Connected Layers\n",
    "    #    Play around with different number of outputs\n",
    "    # Function Definition from Above:\n",
    "    #   fully_conn(x_tensor, num_outputs)\n",
    "    tensor = fully_conn(tensor, 1500)\n",
    "    tensor = tf.nn.dropout(tensor, keep_prob)\n",
    "    \n",
    "    # DONE: Apply an Output Layer\n",
    "    #    Set this to the number of classes\n",
    "    # Function Definition from Above:\n",
    "    #   output(x_tensor, num_outputs)\n",
    "    out = output(tensor, 10)\n",
    "    \n",
    "    \n",
    "    # DONE: return output\n",
    "    return out\n",
    "\n",
    "\n",
    "\"\"\"\n",
    "DON'T MODIFY ANYTHING IN THIS CELL THAT IS BELOW THIS LINE\n",
    "\"\"\"\n",
    "\n",
    "##############################\n",
    "## Build the Neural Network ##\n",
    "##############################\n",
    "\n",
    "# Remove previous weights, bias, inputs, etc..\n",
    "tf.reset_default_graph()\n",
    "\n",
    "# Inputs\n",
    "x = neural_net_image_input((32, 32, 3))\n",
    "y = neural_net_label_input(10)\n",
    "keep_prob = neural_net_keep_prob_input()\n",
    "\n",
    "# Model\n",
    "logits = conv_net(x, keep_prob)\n",
    "\n",
    "# Name logits Tensor, so that is can be loaded from disk after training\n",
    "logits = tf.identity(logits, name='logits')\n",
    "\n",
    "# Loss and Optimizer\n",
    "cost = tf.reduce_mean(tf.nn.softmax_cross_entropy_with_logits(logits=logits, labels=y))\n",
    "optimizer = tf.train.AdamOptimizer().minimize(cost)\n",
    "\n",
    "# Accuracy\n",
    "correct_pred = tf.equal(tf.argmax(logits, 1), tf.argmax(y, 1))\n",
    "accuracy = tf.reduce_mean(tf.cast(correct_pred, tf.float32), name='accuracy')\n",
    "\n",
    "tests.test_conv_net(conv_net)"
   ]
  },
  {
   "cell_type": "markdown",
   "metadata": {},
   "source": [
    "## Train the Neural Network\n",
    "### Single Optimization\n",
    "Implement the function `train_neural_network` to do a single optimization.  The optimization should use `optimizer` to optimize in `session` with a `feed_dict` of the following:\n",
    "* `x` for image input\n",
    "* `y` for labels\n",
    "* `keep_prob` for keep probability for dropout\n",
    "\n",
    "This function will be called for each batch, so `tf.global_variables_initializer()` has already been called.\n",
    "\n",
    "Note: Nothing needs to be returned. This function is only optimizing the neural network."
   ]
  },
  {
   "cell_type": "code",
   "execution_count": 13,
   "metadata": {},
   "outputs": [
    {
     "name": "stdout",
     "output_type": "stream",
     "text": [
      "Tests Passed\n"
     ]
    }
   ],
   "source": [
    "def train_neural_network(session, optimizer, keep_probability, feature_batch, label_batch):\n",
    "    \"\"\"\n",
    "    Optimize the session on a batch of images and labels\n",
    "    : session: Current TensorFlow session\n",
    "    : optimizer: TensorFlow optimizer function\n",
    "    : keep_probability: keep probability\n",
    "    : feature_batch: Batch of Numpy image data\n",
    "    : label_batch: Batch of Numpy label data\n",
    "    \"\"\"\n",
    "    # DONE: Implement Function\n",
    "    session.run(optimizer, feed_dict={x:feature_batch,y:label_batch, keep_prob:keep_probability})\n",
    "    pass\n",
    "\n",
    "\n",
    "\"\"\"\n",
    "DON'T MODIFY ANYTHING IN THIS CELL THAT IS BELOW THIS LINE\n",
    "\"\"\"\n",
    "tests.test_train_nn(train_neural_network)"
   ]
  },
  {
   "cell_type": "markdown",
   "metadata": {},
   "source": [
    "### Show Stats\n",
    "Implement the function `print_stats` to print loss and validation accuracy.  Use the global variables `valid_features` and `valid_labels` to calculate validation accuracy.  Use a keep probability of `1.0` to calculate the loss and validation accuracy."
   ]
  },
  {
   "cell_type": "code",
   "execution_count": 14,
   "metadata": {
    "collapsed": true
   },
   "outputs": [],
   "source": [
    "def print_stats(session, feature_batch, label_batch, cost, accuracy):\n",
    "    \"\"\"\n",
    "    Print information about loss and validation accuracy\n",
    "    : session: Current TensorFlow session\n",
    "    : feature_batch: Batch of Numpy image data\n",
    "    : label_batch: Batch of Numpy label data\n",
    "    : cost: TensorFlow cost function\n",
    "    : accuracy: TensorFlow accuracy function\n",
    "    \"\"\"\n",
    "    # DONE: Implement Function\n",
    "    loss = session.run(cost, feed_dict={x:feature_batch, y:label_batch, keep_prob:1.0})\n",
    "    accuracy = session.run(accuracy, feed_dict={x:valid_features, y:valid_labels, keep_prob:1.0})\n",
    "    print('loss {:f}, accuracy {:f}  '.format(loss, accuracy))\n",
    "    pass"
   ]
  },
  {
   "cell_type": "markdown",
   "metadata": {},
   "source": [
    "### Hyperparameters\n",
    "Tune the following parameters:\n",
    "* Set `epochs` to the number of iterations until the network stops learning or start overfitting\n",
    "* Set `batch_size` to the highest number that your machine has memory for.  Most people set them to common sizes of memory:\n",
    " * 64\n",
    " * 128\n",
    " * 256\n",
    " * ...\n",
    "* Set `keep_probability` to the probability of keeping a node using dropout"
   ]
  },
  {
   "cell_type": "code",
   "execution_count": 26,
   "metadata": {
    "collapsed": true
   },
   "outputs": [],
   "source": [
    "# DONE: Tune Parameters\n",
    "epochs = 50\n",
    "batch_size = 128\n",
    "keep_probability = 0.40"
   ]
  },
  {
   "cell_type": "markdown",
   "metadata": {},
   "source": [
    "### Train on a Single CIFAR-10 Batch\n",
    "Instead of training the neural network on all the CIFAR-10 batches of data, let's use a single batch. This should save time while you iterate on the model to get a better accuracy.  Once the final validation accuracy is 50% or greater, run the model on all the data in the next section."
   ]
  },
  {
   "cell_type": "code",
   "execution_count": 25,
   "metadata": {},
   "outputs": [
    {
     "name": "stdout",
     "output_type": "stream",
     "text": [
      "Checking the Training on a Single Batch...\n",
      "Epoch  1, CIFAR-10 Batch 1:  loss 2.169125, accuracy 0.261800  \n",
      "Epoch  2, CIFAR-10 Batch 1:  loss 2.007968, accuracy 0.318800  \n",
      "Epoch  3, CIFAR-10 Batch 1:  loss 2.012100, accuracy 0.371600  \n",
      "Epoch  4, CIFAR-10 Batch 1:  loss 1.881764, accuracy 0.400800  \n",
      "Epoch  5, CIFAR-10 Batch 1:  loss 1.802522, accuracy 0.412200  \n",
      "Epoch  6, CIFAR-10 Batch 1:  loss 1.703165, accuracy 0.431400  \n",
      "Epoch  7, CIFAR-10 Batch 1:  loss 1.600767, accuracy 0.472400  \n",
      "Epoch  8, CIFAR-10 Batch 1:  loss 1.528395, accuracy 0.467400  \n",
      "Epoch  9, CIFAR-10 Batch 1:  loss 1.411696, accuracy 0.496400  \n",
      "Epoch 10, CIFAR-10 Batch 1:  loss 1.348998, accuracy 0.515800  \n"
     ]
    }
   ],
   "source": [
    "\"\"\"\n",
    "DON'T MODIFY ANYTHING IN THIS CELL\n",
    "\"\"\"\n",
    "print('Checking the Training on a Single Batch...')\n",
    "with tf.Session() as sess:\n",
    "    # Initializing the variables\n",
    "    sess.run(tf.global_variables_initializer())\n",
    "    \n",
    "    # Training cycle\n",
    "    for epoch in range(epochs):\n",
    "        batch_i = 1\n",
    "        for batch_features, batch_labels in helper.load_preprocess_training_batch(batch_i, batch_size):\n",
    "            train_neural_network(sess, optimizer, keep_probability, batch_features, batch_labels)\n",
    "        print('Epoch {:>2}, CIFAR-10 Batch {}:  '.format(epoch + 1, batch_i), end='')\n",
    "        print_stats(sess, batch_features, batch_labels, cost, accuracy)"
   ]
  },
  {
   "cell_type": "markdown",
   "metadata": {},
   "source": [
    "### Fully Train the Model\n",
    "Now that you got a good accuracy with a single CIFAR-10 batch, try it with all five batches."
   ]
  },
  {
   "cell_type": "code",
   "execution_count": 27,
   "metadata": {},
   "outputs": [
    {
     "name": "stdout",
     "output_type": "stream",
     "text": [
      "Training...\n",
      "Epoch  1, CIFAR-10 Batch 1:  loss 2.159120, accuracy 0.281600  \n",
      "Epoch  1, CIFAR-10 Batch 2:  loss 1.783917, accuracy 0.363200  \n",
      "Epoch  1, CIFAR-10 Batch 3:  loss 1.549834, accuracy 0.376200  \n",
      "Epoch  1, CIFAR-10 Batch 4:  loss 1.656549, accuracy 0.389000  \n",
      "Epoch  1, CIFAR-10 Batch 5:  loss 1.653259, accuracy 0.431200  \n",
      "Epoch  2, CIFAR-10 Batch 1:  loss 1.607021, accuracy 0.441800  \n",
      "Epoch  2, CIFAR-10 Batch 2:  loss 1.438865, accuracy 0.462200  \n",
      "Epoch  2, CIFAR-10 Batch 3:  loss 1.221693, accuracy 0.479400  \n",
      "Epoch  2, CIFAR-10 Batch 4:  loss 1.467193, accuracy 0.496000  \n",
      "Epoch  2, CIFAR-10 Batch 5:  loss 1.471715, accuracy 0.511400  \n",
      "Epoch  3, CIFAR-10 Batch 1:  loss 1.314128, accuracy 0.517000  \n",
      "Epoch  3, CIFAR-10 Batch 2:  loss 1.235909, accuracy 0.530000  \n",
      "Epoch  3, CIFAR-10 Batch 3:  loss 1.033175, accuracy 0.538000  \n",
      "Epoch  3, CIFAR-10 Batch 4:  loss 1.214254, accuracy 0.547800  \n",
      "Epoch  3, CIFAR-10 Batch 5:  loss 1.336554, accuracy 0.557800  \n",
      "Epoch  4, CIFAR-10 Batch 1:  loss 1.169719, accuracy 0.554000  \n",
      "Epoch  4, CIFAR-10 Batch 2:  loss 1.100155, accuracy 0.549000  \n",
      "Epoch  4, CIFAR-10 Batch 3:  loss 0.917215, accuracy 0.573400  \n",
      "Epoch  4, CIFAR-10 Batch 4:  loss 1.057776, accuracy 0.588200  \n",
      "Epoch  4, CIFAR-10 Batch 5:  loss 1.176063, accuracy 0.599200  \n",
      "Epoch  5, CIFAR-10 Batch 1:  loss 1.127602, accuracy 0.577600  \n",
      "Epoch  5, CIFAR-10 Batch 2:  loss 0.988101, accuracy 0.596000  \n",
      "Epoch  5, CIFAR-10 Batch 3:  loss 0.806637, accuracy 0.607400  \n",
      "Epoch  5, CIFAR-10 Batch 4:  loss 0.944836, accuracy 0.621200  \n",
      "Epoch  5, CIFAR-10 Batch 5:  loss 1.028067, accuracy 0.633000  \n",
      "Epoch  6, CIFAR-10 Batch 1:  loss 1.012593, accuracy 0.618000  \n",
      "Epoch  6, CIFAR-10 Batch 2:  loss 0.931415, accuracy 0.641000  \n",
      "Epoch  6, CIFAR-10 Batch 3:  loss 0.725822, accuracy 0.638200  \n",
      "Epoch  6, CIFAR-10 Batch 4:  loss 0.869031, accuracy 0.640200  \n",
      "Epoch  6, CIFAR-10 Batch 5:  loss 0.941059, accuracy 0.657600  \n",
      "Epoch  7, CIFAR-10 Batch 1:  loss 0.945785, accuracy 0.624800  \n",
      "Epoch  7, CIFAR-10 Batch 2:  loss 0.857896, accuracy 0.666200  \n",
      "Epoch  7, CIFAR-10 Batch 3:  loss 0.603654, accuracy 0.672600  \n",
      "Epoch  7, CIFAR-10 Batch 4:  loss 0.734002, accuracy 0.671200  \n",
      "Epoch  7, CIFAR-10 Batch 5:  loss 0.857884, accuracy 0.682600  \n",
      "Epoch  8, CIFAR-10 Batch 1:  loss 0.830212, accuracy 0.659400  \n",
      "Epoch  8, CIFAR-10 Batch 2:  loss 0.781839, accuracy 0.679600  \n",
      "Epoch  8, CIFAR-10 Batch 3:  loss 0.617568, accuracy 0.667800  \n",
      "Epoch  8, CIFAR-10 Batch 4:  loss 0.682069, accuracy 0.689800  \n",
      "Epoch  8, CIFAR-10 Batch 5:  loss 0.741462, accuracy 0.693600  \n",
      "Epoch  9, CIFAR-10 Batch 1:  loss 0.720806, accuracy 0.696400  \n",
      "Epoch  9, CIFAR-10 Batch 2:  loss 0.736187, accuracy 0.688200  \n",
      "Epoch  9, CIFAR-10 Batch 3:  loss 0.503042, accuracy 0.691000  \n",
      "Epoch  9, CIFAR-10 Batch 4:  loss 0.597692, accuracy 0.674800  \n",
      "Epoch  9, CIFAR-10 Batch 5:  loss 0.728683, accuracy 0.691200  \n",
      "Epoch 10, CIFAR-10 Batch 1:  loss 0.673994, accuracy 0.705400  \n",
      "Epoch 10, CIFAR-10 Batch 2:  loss 0.667246, accuracy 0.709000  \n",
      "Epoch 10, CIFAR-10 Batch 3:  loss 0.485276, accuracy 0.697400  \n",
      "Epoch 10, CIFAR-10 Batch 4:  loss 0.565653, accuracy 0.703000  \n",
      "Epoch 10, CIFAR-10 Batch 5:  loss 0.597759, accuracy 0.713000  \n",
      "Epoch 11, CIFAR-10 Batch 1:  loss 0.600639, accuracy 0.706600  \n",
      "Epoch 11, CIFAR-10 Batch 2:  loss 0.612999, accuracy 0.714600  \n",
      "Epoch 11, CIFAR-10 Batch 3:  loss 0.426944, accuracy 0.703800  \n",
      "Epoch 11, CIFAR-10 Batch 4:  loss 0.530247, accuracy 0.697800  \n",
      "Epoch 11, CIFAR-10 Batch 5:  loss 0.614695, accuracy 0.698600  \n",
      "Epoch 12, CIFAR-10 Batch 1:  loss 0.582327, accuracy 0.705200  \n",
      "Epoch 12, CIFAR-10 Batch 2:  loss 0.624407, accuracy 0.725200  \n",
      "Epoch 12, CIFAR-10 Batch 3:  loss 0.344175, accuracy 0.714200  \n",
      "Epoch 12, CIFAR-10 Batch 4:  loss 0.442769, accuracy 0.717200  \n",
      "Epoch 12, CIFAR-10 Batch 5:  loss 0.547394, accuracy 0.726600  \n",
      "Epoch 13, CIFAR-10 Batch 1:  loss 0.524905, accuracy 0.708400  \n",
      "Epoch 13, CIFAR-10 Batch 2:  loss 0.541925, accuracy 0.724800  \n",
      "Epoch 13, CIFAR-10 Batch 3:  loss 0.363373, accuracy 0.719200  \n",
      "Epoch 13, CIFAR-10 Batch 4:  loss 0.434584, accuracy 0.726800  \n",
      "Epoch 13, CIFAR-10 Batch 5:  loss 0.491055, accuracy 0.708400  \n",
      "Epoch 14, CIFAR-10 Batch 1:  loss 0.479899, accuracy 0.723800  \n",
      "Epoch 14, CIFAR-10 Batch 2:  loss 0.513475, accuracy 0.734000  \n",
      "Epoch 14, CIFAR-10 Batch 3:  loss 0.312519, accuracy 0.744000  \n",
      "Epoch 14, CIFAR-10 Batch 4:  loss 0.388555, accuracy 0.739000  \n",
      "Epoch 14, CIFAR-10 Batch 5:  loss 0.485170, accuracy 0.714000  \n",
      "Epoch 15, CIFAR-10 Batch 1:  loss 0.461779, accuracy 0.730000  \n",
      "Epoch 15, CIFAR-10 Batch 2:  loss 0.494245, accuracy 0.726600  \n",
      "Epoch 15, CIFAR-10 Batch 3:  loss 0.288379, accuracy 0.736200  \n",
      "Epoch 15, CIFAR-10 Batch 4:  loss 0.383741, accuracy 0.725400  \n",
      "Epoch 15, CIFAR-10 Batch 5:  loss 0.403482, accuracy 0.743400  \n",
      "Epoch 16, CIFAR-10 Batch 1:  loss 0.401792, accuracy 0.745800  \n",
      "Epoch 16, CIFAR-10 Batch 2:  loss 0.479719, accuracy 0.732000  \n",
      "Epoch 16, CIFAR-10 Batch 3:  loss 0.311562, accuracy 0.740200  \n",
      "Epoch 16, CIFAR-10 Batch 4:  loss 0.323389, accuracy 0.741800  \n",
      "Epoch 16, CIFAR-10 Batch 5:  loss 0.410349, accuracy 0.738200  \n",
      "Epoch 17, CIFAR-10 Batch 1:  loss 0.417720, accuracy 0.737600  \n",
      "Epoch 17, CIFAR-10 Batch 2:  loss 0.396097, accuracy 0.749000  \n",
      "Epoch 17, CIFAR-10 Batch 3:  loss 0.295844, accuracy 0.739000  \n",
      "Epoch 17, CIFAR-10 Batch 4:  loss 0.306951, accuracy 0.754600  \n",
      "Epoch 17, CIFAR-10 Batch 5:  loss 0.358448, accuracy 0.747000  \n",
      "Epoch 18, CIFAR-10 Batch 1:  loss 0.378254, accuracy 0.743800  \n",
      "Epoch 18, CIFAR-10 Batch 2:  loss 0.387137, accuracy 0.746400  \n",
      "Epoch 18, CIFAR-10 Batch 3:  loss 0.271657, accuracy 0.749200  \n",
      "Epoch 18, CIFAR-10 Batch 4:  loss 0.291577, accuracy 0.758400  \n",
      "Epoch 18, CIFAR-10 Batch 5:  loss 0.312704, accuracy 0.742800  \n",
      "Epoch 19, CIFAR-10 Batch 1:  loss 0.339154, accuracy 0.747800  \n",
      "Epoch 19, CIFAR-10 Batch 2:  loss 0.355443, accuracy 0.749200  \n",
      "Epoch 19, CIFAR-10 Batch 3:  loss 0.324297, accuracy 0.742400  \n",
      "Epoch 19, CIFAR-10 Batch 4:  loss 0.260390, accuracy 0.762400  \n",
      "Epoch 19, CIFAR-10 Batch 5:  loss 0.318343, accuracy 0.747600  \n",
      "Epoch 20, CIFAR-10 Batch 1:  loss 0.307771, accuracy 0.758000  \n",
      "Epoch 20, CIFAR-10 Batch 2:  loss 0.363418, accuracy 0.762200  \n",
      "Epoch 20, CIFAR-10 Batch 3:  loss 0.223599, accuracy 0.761600  \n",
      "Epoch 20, CIFAR-10 Batch 4:  loss 0.310119, accuracy 0.765600  \n",
      "Epoch 20, CIFAR-10 Batch 5:  loss 0.319587, accuracy 0.745200  \n",
      "Epoch 21, CIFAR-10 Batch 1:  loss 0.278472, accuracy 0.761600  \n",
      "Epoch 21, CIFAR-10 Batch 2:  loss 0.348772, accuracy 0.765200  \n",
      "Epoch 21, CIFAR-10 Batch 3:  loss 0.224556, accuracy 0.766400  \n",
      "Epoch 21, CIFAR-10 Batch 4:  loss 0.320140, accuracy 0.753400  \n",
      "Epoch 21, CIFAR-10 Batch 5:  loss 0.300403, accuracy 0.762000  \n",
      "Epoch 22, CIFAR-10 Batch 1:  loss 0.301436, accuracy 0.762200  \n",
      "Epoch 22, CIFAR-10 Batch 2:  loss 0.313118, accuracy 0.763400  \n",
      "Epoch 22, CIFAR-10 Batch 3:  loss 0.220321, accuracy 0.765000  \n",
      "Epoch 22, CIFAR-10 Batch 4:  loss 0.276067, accuracy 0.770200  \n",
      "Epoch 22, CIFAR-10 Batch 5:  loss 0.272371, accuracy 0.755000  \n",
      "Epoch 23, CIFAR-10 Batch 1:  loss 0.260210, accuracy 0.769800  \n",
      "Epoch 23, CIFAR-10 Batch 2:  loss 0.328750, accuracy 0.763800  \n",
      "Epoch 23, CIFAR-10 Batch 3:  loss 0.208417, accuracy 0.768200  \n",
      "Epoch 23, CIFAR-10 Batch 4:  loss 0.275077, accuracy 0.767200  \n",
      "Epoch 23, CIFAR-10 Batch 5:  loss 0.259125, accuracy 0.750200  \n",
      "Epoch 24, CIFAR-10 Batch 1:  loss 0.282575, accuracy 0.760400  \n",
      "Epoch 24, CIFAR-10 Batch 2:  loss 0.279630, accuracy 0.770000  \n",
      "Epoch 24, CIFAR-10 Batch 3:  loss 0.210469, accuracy 0.767800  \n",
      "Epoch 24, CIFAR-10 Batch 4:  loss 0.236475, accuracy 0.774200  \n",
      "Epoch 24, CIFAR-10 Batch 5:  loss 0.253582, accuracy 0.765600  \n",
      "Epoch 25, CIFAR-10 Batch 1:  loss 0.256729, accuracy 0.759600  \n",
      "Epoch 25, CIFAR-10 Batch 2:  loss 0.248057, accuracy 0.771800  \n",
      "Epoch 25, CIFAR-10 Batch 3:  loss 0.203430, accuracy 0.765200  \n",
      "Epoch 25, CIFAR-10 Batch 4:  loss 0.223569, accuracy 0.777600  \n",
      "Epoch 25, CIFAR-10 Batch 5:  loss 0.204598, accuracy 0.775200  \n",
      "Epoch 26, CIFAR-10 Batch 1:  loss 0.235209, accuracy 0.770000  \n",
      "Epoch 26, CIFAR-10 Batch 2:  loss 0.228092, accuracy 0.779000  \n",
      "Epoch 26, CIFAR-10 Batch 3:  loss 0.176722, accuracy 0.774200  \n"
     ]
    },
    {
     "name": "stdout",
     "output_type": "stream",
     "text": [
      "Epoch 26, CIFAR-10 Batch 4:  loss 0.181306, accuracy 0.781200  \n",
      "Epoch 26, CIFAR-10 Batch 5:  loss 0.251861, accuracy 0.780800  \n",
      "Epoch 27, CIFAR-10 Batch 1:  loss 0.219706, accuracy 0.768400  \n",
      "Epoch 27, CIFAR-10 Batch 2:  loss 0.240930, accuracy 0.767800  \n",
      "Epoch 27, CIFAR-10 Batch 3:  loss 0.209312, accuracy 0.773200  \n",
      "Epoch 27, CIFAR-10 Batch 4:  loss 0.226988, accuracy 0.779000  \n",
      "Epoch 27, CIFAR-10 Batch 5:  loss 0.202894, accuracy 0.767600  \n",
      "Epoch 28, CIFAR-10 Batch 1:  loss 0.222111, accuracy 0.771200  \n",
      "Epoch 28, CIFAR-10 Batch 2:  loss 0.232016, accuracy 0.783200  \n",
      "Epoch 28, CIFAR-10 Batch 3:  loss 0.185195, accuracy 0.780800  \n",
      "Epoch 28, CIFAR-10 Batch 4:  loss 0.221270, accuracy 0.781400  \n",
      "Epoch 28, CIFAR-10 Batch 5:  loss 0.217265, accuracy 0.771800  \n",
      "Epoch 29, CIFAR-10 Batch 1:  loss 0.189313, accuracy 0.785600  \n",
      "Epoch 29, CIFAR-10 Batch 2:  loss 0.212005, accuracy 0.783400  \n",
      "Epoch 29, CIFAR-10 Batch 3:  loss 0.163159, accuracy 0.778000  \n",
      "Epoch 29, CIFAR-10 Batch 4:  loss 0.220466, accuracy 0.782000  \n",
      "Epoch 29, CIFAR-10 Batch 5:  loss 0.190696, accuracy 0.778400  \n",
      "Epoch 30, CIFAR-10 Batch 1:  loss 0.204214, accuracy 0.782000  \n",
      "Epoch 30, CIFAR-10 Batch 2:  loss 0.202519, accuracy 0.784800  \n",
      "Epoch 30, CIFAR-10 Batch 3:  loss 0.175281, accuracy 0.774400  \n",
      "Epoch 30, CIFAR-10 Batch 4:  loss 0.178823, accuracy 0.781400  \n",
      "Epoch 30, CIFAR-10 Batch 5:  loss 0.182769, accuracy 0.762200  \n",
      "Epoch 31, CIFAR-10 Batch 1:  loss 0.228472, accuracy 0.775000  \n",
      "Epoch 31, CIFAR-10 Batch 2:  loss 0.199724, accuracy 0.770800  \n",
      "Epoch 31, CIFAR-10 Batch 3:  loss 0.159588, accuracy 0.773400  \n",
      "Epoch 31, CIFAR-10 Batch 4:  loss 0.173376, accuracy 0.778400  \n",
      "Epoch 31, CIFAR-10 Batch 5:  loss 0.184118, accuracy 0.772200  \n",
      "Epoch 32, CIFAR-10 Batch 1:  loss 0.174272, accuracy 0.791600  \n",
      "Epoch 32, CIFAR-10 Batch 2:  loss 0.189812, accuracy 0.776400  \n",
      "Epoch 32, CIFAR-10 Batch 3:  loss 0.196428, accuracy 0.772400  \n",
      "Epoch 32, CIFAR-10 Batch 4:  loss 0.207028, accuracy 0.777600  \n",
      "Epoch 32, CIFAR-10 Batch 5:  loss 0.157734, accuracy 0.774000  \n",
      "Epoch 33, CIFAR-10 Batch 1:  loss 0.152196, accuracy 0.781400  \n",
      "Epoch 33, CIFAR-10 Batch 2:  loss 0.176019, accuracy 0.786600  \n",
      "Epoch 33, CIFAR-10 Batch 3:  loss 0.159993, accuracy 0.786400  \n",
      "Epoch 33, CIFAR-10 Batch 4:  loss 0.223131, accuracy 0.779200  \n",
      "Epoch 33, CIFAR-10 Batch 5:  loss 0.177971, accuracy 0.773400  \n",
      "Epoch 34, CIFAR-10 Batch 1:  loss 0.162776, accuracy 0.786200  \n",
      "Epoch 34, CIFAR-10 Batch 2:  loss 0.154450, accuracy 0.786600  \n",
      "Epoch 34, CIFAR-10 Batch 3:  loss 0.141722, accuracy 0.783200  \n",
      "Epoch 34, CIFAR-10 Batch 4:  loss 0.160506, accuracy 0.779800  \n",
      "Epoch 34, CIFAR-10 Batch 5:  loss 0.152478, accuracy 0.782800  \n",
      "Epoch 35, CIFAR-10 Batch 1:  loss 0.174460, accuracy 0.783800  \n",
      "Epoch 35, CIFAR-10 Batch 2:  loss 0.150991, accuracy 0.784600  \n",
      "Epoch 35, CIFAR-10 Batch 3:  loss 0.176586, accuracy 0.773000  \n",
      "Epoch 35, CIFAR-10 Batch 4:  loss 0.158526, accuracy 0.784600  \n",
      "Epoch 35, CIFAR-10 Batch 5:  loss 0.149946, accuracy 0.770200  \n",
      "Epoch 36, CIFAR-10 Batch 1:  loss 0.150394, accuracy 0.785200  \n",
      "Epoch 36, CIFAR-10 Batch 2:  loss 0.135646, accuracy 0.784600  \n",
      "Epoch 36, CIFAR-10 Batch 3:  loss 0.180451, accuracy 0.776600  \n",
      "Epoch 36, CIFAR-10 Batch 4:  loss 0.136336, accuracy 0.779600  \n",
      "Epoch 36, CIFAR-10 Batch 5:  loss 0.154268, accuracy 0.774400  \n",
      "Epoch 37, CIFAR-10 Batch 1:  loss 0.147165, accuracy 0.777000  \n",
      "Epoch 37, CIFAR-10 Batch 2:  loss 0.149654, accuracy 0.784400  \n",
      "Epoch 37, CIFAR-10 Batch 3:  loss 0.144197, accuracy 0.784400  \n",
      "Epoch 37, CIFAR-10 Batch 4:  loss 0.172559, accuracy 0.783000  \n",
      "Epoch 37, CIFAR-10 Batch 5:  loss 0.157716, accuracy 0.780000  \n",
      "Epoch 38, CIFAR-10 Batch 1:  loss 0.142609, accuracy 0.790800  \n",
      "Epoch 38, CIFAR-10 Batch 2:  loss 0.138781, accuracy 0.788200  \n",
      "Epoch 38, CIFAR-10 Batch 3:  loss 0.140677, accuracy 0.777200  \n",
      "Epoch 38, CIFAR-10 Batch 4:  loss 0.175110, accuracy 0.771600  \n",
      "Epoch 38, CIFAR-10 Batch 5:  loss 0.176978, accuracy 0.777000  \n",
      "Epoch 39, CIFAR-10 Batch 1:  loss 0.178645, accuracy 0.785000  \n",
      "Epoch 39, CIFAR-10 Batch 2:  loss 0.140953, accuracy 0.791800  \n",
      "Epoch 39, CIFAR-10 Batch 3:  loss 0.138463, accuracy 0.783000  \n",
      "Epoch 39, CIFAR-10 Batch 4:  loss 0.149469, accuracy 0.783200  \n",
      "Epoch 39, CIFAR-10 Batch 5:  loss 0.151358, accuracy 0.782000  \n",
      "Epoch 40, CIFAR-10 Batch 1:  loss 0.144332, accuracy 0.779600  \n",
      "Epoch 40, CIFAR-10 Batch 2:  loss 0.145135, accuracy 0.792800  \n",
      "Epoch 40, CIFAR-10 Batch 3:  loss 0.112597, accuracy 0.783600  \n",
      "Epoch 40, CIFAR-10 Batch 4:  loss 0.158614, accuracy 0.785800  \n",
      "Epoch 40, CIFAR-10 Batch 5:  loss 0.121645, accuracy 0.782200  \n",
      "Epoch 41, CIFAR-10 Batch 1:  loss 0.118639, accuracy 0.779800  \n",
      "Epoch 41, CIFAR-10 Batch 2:  loss 0.142090, accuracy 0.793200  \n",
      "Epoch 41, CIFAR-10 Batch 3:  loss 0.112822, accuracy 0.790000  \n",
      "Epoch 41, CIFAR-10 Batch 4:  loss 0.112662, accuracy 0.790600  \n",
      "Epoch 41, CIFAR-10 Batch 5:  loss 0.133135, accuracy 0.777400  \n",
      "Epoch 42, CIFAR-10 Batch 1:  loss 0.130735, accuracy 0.790600  \n",
      "Epoch 42, CIFAR-10 Batch 2:  loss 0.136173, accuracy 0.786600  \n",
      "Epoch 42, CIFAR-10 Batch 3:  loss 0.140310, accuracy 0.784200  \n",
      "Epoch 42, CIFAR-10 Batch 4:  loss 0.112546, accuracy 0.793800  \n",
      "Epoch 42, CIFAR-10 Batch 5:  loss 0.177809, accuracy 0.780800  \n",
      "Epoch 43, CIFAR-10 Batch 1:  loss 0.115825, accuracy 0.788400  \n",
      "Epoch 43, CIFAR-10 Batch 2:  loss 0.118169, accuracy 0.787400  \n",
      "Epoch 43, CIFAR-10 Batch 3:  loss 0.127861, accuracy 0.781400  \n",
      "Epoch 43, CIFAR-10 Batch 4:  loss 0.130228, accuracy 0.794600  \n",
      "Epoch 43, CIFAR-10 Batch 5:  loss 0.122474, accuracy 0.792600  \n",
      "Epoch 44, CIFAR-10 Batch 1:  loss 0.136324, accuracy 0.781400  \n",
      "Epoch 44, CIFAR-10 Batch 2:  loss 0.132981, accuracy 0.790800  \n",
      "Epoch 44, CIFAR-10 Batch 3:  loss 0.103734, accuracy 0.785600  \n",
      "Epoch 44, CIFAR-10 Batch 4:  loss 0.147816, accuracy 0.788200  \n",
      "Epoch 44, CIFAR-10 Batch 5:  loss 0.136982, accuracy 0.786600  \n",
      "Epoch 45, CIFAR-10 Batch 1:  loss 0.133124, accuracy 0.778800  \n",
      "Epoch 45, CIFAR-10 Batch 2:  loss 0.117814, accuracy 0.792400  \n",
      "Epoch 45, CIFAR-10 Batch 3:  loss 0.099418, accuracy 0.785800  \n",
      "Epoch 45, CIFAR-10 Batch 4:  loss 0.112932, accuracy 0.787200  \n",
      "Epoch 45, CIFAR-10 Batch 5:  loss 0.097920, accuracy 0.792800  \n",
      "Epoch 46, CIFAR-10 Batch 1:  loss 0.113853, accuracy 0.786000  \n",
      "Epoch 46, CIFAR-10 Batch 2:  loss 0.140684, accuracy 0.788400  \n",
      "Epoch 46, CIFAR-10 Batch 3:  loss 0.138734, accuracy 0.782200  \n",
      "Epoch 46, CIFAR-10 Batch 4:  loss 0.133900, accuracy 0.787600  \n",
      "Epoch 46, CIFAR-10 Batch 5:  loss 0.100607, accuracy 0.793800  \n",
      "Epoch 47, CIFAR-10 Batch 1:  loss 0.128213, accuracy 0.783600  \n",
      "Epoch 47, CIFAR-10 Batch 2:  loss 0.112402, accuracy 0.790400  \n",
      "Epoch 47, CIFAR-10 Batch 3:  loss 0.147975, accuracy 0.785200  \n",
      "Epoch 47, CIFAR-10 Batch 4:  loss 0.115534, accuracy 0.797000  \n",
      "Epoch 47, CIFAR-10 Batch 5:  loss 0.105923, accuracy 0.795000  \n",
      "Epoch 48, CIFAR-10 Batch 1:  loss 0.120887, accuracy 0.787800  \n",
      "Epoch 48, CIFAR-10 Batch 2:  loss 0.109855, accuracy 0.794400  \n",
      "Epoch 48, CIFAR-10 Batch 3:  loss 0.099503, accuracy 0.792000  \n",
      "Epoch 48, CIFAR-10 Batch 4:  loss 0.110053, accuracy 0.792000  \n",
      "Epoch 48, CIFAR-10 Batch 5:  loss 0.123751, accuracy 0.787000  \n",
      "Epoch 49, CIFAR-10 Batch 1:  loss 0.103859, accuracy 0.793000  \n",
      "Epoch 49, CIFAR-10 Batch 2:  loss 0.113509, accuracy 0.795800  \n",
      "Epoch 49, CIFAR-10 Batch 3:  loss 0.114506, accuracy 0.787000  \n",
      "Epoch 49, CIFAR-10 Batch 4:  loss 0.095995, accuracy 0.788800  \n",
      "Epoch 49, CIFAR-10 Batch 5:  loss 0.104686, accuracy 0.793400  \n",
      "Epoch 50, CIFAR-10 Batch 1:  loss 0.110655, accuracy 0.796000  \n",
      "Epoch 50, CIFAR-10 Batch 2:  loss 0.105921, accuracy 0.790400  \n",
      "Epoch 50, CIFAR-10 Batch 3:  loss 0.171151, accuracy 0.779800  \n",
      "Epoch 50, CIFAR-10 Batch 4:  loss 0.117944, accuracy 0.784200  \n",
      "Epoch 50, CIFAR-10 Batch 5:  loss 0.104397, accuracy 0.782200  \n"
     ]
    }
   ],
   "source": [
    "\"\"\"\n",
    "DON'T MODIFY ANYTHING IN THIS CELL\n",
    "\"\"\"\n",
    "save_model_path = './image_classification'\n",
    "\n",
    "print('Training...')\n",
    "with tf.Session() as sess:\n",
    "    # Initializing the variables\n",
    "    sess.run(tf.global_variables_initializer())\n",
    "    \n",
    "    # Training cycle\n",
    "    for epoch in range(epochs):\n",
    "        # Loop over all batches\n",
    "        n_batches = 5\n",
    "        for batch_i in range(1, n_batches + 1):\n",
    "            for batch_features, batch_labels in helper.load_preprocess_training_batch(batch_i, batch_size):\n",
    "                train_neural_network(sess, optimizer, keep_probability, batch_features, batch_labels)\n",
    "            print('Epoch {:>2}, CIFAR-10 Batch {}:  '.format(epoch + 1, batch_i), end='')\n",
    "            print_stats(sess, batch_features, batch_labels, cost, accuracy)\n",
    "            \n",
    "    # Save Model\n",
    "    saver = tf.train.Saver()\n",
    "    save_path = saver.save(sess, save_model_path)"
   ]
  },
  {
   "cell_type": "markdown",
   "metadata": {},
   "source": [
    "# Checkpoint\n",
    "The model has been saved to disk.\n",
    "## Test Model\n",
    "Test your model against the test dataset.  This will be your final accuracy. You should have an accuracy greater than 50%. If you don't, keep tweaking the model architecture and parameters."
   ]
  },
  {
   "cell_type": "code",
   "execution_count": 29,
   "metadata": {},
   "outputs": [
    {
     "name": "stdout",
     "output_type": "stream",
     "text": [
      "INFO:tensorflow:Restoring parameters from ./image_classification\n",
      "Testing Accuracy: 0.7779865506329114\n",
      "\n"
     ]
    },
    {
     "data": {
      "image/png": "[encoded data removed]",
      "text/plain": [
       "<matplotlib.figure.Figure at 0x7f83b4c45828>"
      ]
     },
     "metadata": {
      "image/png": {
       "height": 319,
       "width": 355
      }
     },
     "output_type": "display_data"
    }
   ],
   "source": [
    "\"\"\"\n",
    "DON'T MODIFY ANYTHING IN THIS CELL\n",
    "\"\"\"\n",
    "%matplotlib inline\n",
    "%config InlineBackend.figure_format = 'retina'\n",
    "\n",
    "import tensorflow as tf\n",
    "import pickle\n",
    "import helper\n",
    "import random\n",
    "\n",
    "# Set batch size if not already set\n",
    "try:\n",
    "    if batch_size:\n",
    "        pass\n",
    "except NameError:\n",
    "    batch_size = 64\n",
    "\n",
    "save_model_path = './image_classification'\n",
    "n_samples = 4\n",
    "top_n_predictions = 3\n",
    "\n",
    "def test_model():\n",
    "    \"\"\"\n",
    "    Test the saved model against the test dataset\n",
    "    \"\"\"\n",
    "\n",
    "    test_features, test_labels = pickle.load(open('preprocess_test.p', mode='rb'))\n",
    "    loaded_graph = tf.Graph()\n",
    "\n",
    "    with tf.Session(graph=loaded_graph) as sess:\n",
    "        # Load model\n",
    "        loader = tf.train.import_meta_graph(save_model_path + '.meta')\n",
    "        loader.restore(sess, save_model_path)\n",
    "\n",
    "        # Get Tensors from loaded model\n",
    "        loaded_x = loaded_graph.get_tensor_by_name('x:0')\n",
    "        loaded_y = loaded_graph.get_tensor_by_name('y:0')\n",
    "        loaded_keep_prob = loaded_graph.get_tensor_by_name('keep_prob:0')\n",
    "        loaded_logits = loaded_graph.get_tensor_by_name('logits:0')\n",
    "        loaded_acc = loaded_graph.get_tensor_by_name('accuracy:0')\n",
    "        \n",
    "        # Get accuracy in batches for memory limitations\n",
    "        test_batch_acc_total = 0\n",
    "        test_batch_count = 0\n",
    "        \n",
    "        for test_feature_batch, test_label_batch in helper.batch_features_labels(test_features, test_labels, batch_size):\n",
    "            test_batch_acc_total += sess.run(\n",
    "                loaded_acc,\n",
    "                feed_dict={loaded_x: test_feature_batch, loaded_y: test_label_batch, loaded_keep_prob: 1.0})\n",
    "            test_batch_count += 1\n",
    "\n",
    "        print('Testing Accuracy: {}\\n'.format(test_batch_acc_total/test_batch_count))\n",
    "\n",
    "        # Print Random Samples\n",
    "        random_test_features, random_test_labels = tuple(zip(*random.sample(list(zip(test_features, test_labels)), n_samples)))\n",
    "        random_test_predictions = sess.run(\n",
    "            tf.nn.top_k(tf.nn.softmax(loaded_logits), top_n_predictions),\n",
    "            feed_dict={loaded_x: random_test_features, loaded_y: random_test_labels, loaded_keep_prob: 1.0})\n",
    "        helper.display_image_predictions(random_test_features, random_test_labels, random_test_predictions)\n",
    "\n",
    "\n",
    "test_model()"
   ]
  },
  {
   "cell_type": "markdown",
   "metadata": {},
   "source": [
    "## Why 50-80% Accuracy?\n",
    "You might be wondering why you can't get an accuracy any higher. First things first, 50% isn't bad for a simple CNN.  Pure guessing would get you 10% accuracy. However, you might notice people are getting scores [well above 80%](http://rodrigob.github.io/are_we_there_yet/build/classification_datasets_results.html#43494641522d3130).  That's because we haven't taught you all there is to know about neural networks. We still need to cover a few more techniques.\n",
    "## Submitting This Project\n",
    "When submitting this project, make sure to run all the cells before saving the notebook.  Save the notebook file as \"dlnd_image_classification.ipynb\" and save it as a HTML file under \"File\" -> \"Download as\".  Include the \"helper.py\" and \"problem_unittests.py\" files in your submission."
   ]
  }
 ],
 "metadata": {
  "kernelspec": {
   "display_name": "Python 3",
   "language": "python",
   "name": "python3"
  },
  "language_info": {
   "codemirror_mode": {
    "name": "ipython",
    "version": 3
   },
   "file_extension": ".py",
   "mimetype": "text/x-python",
   "name": "python",
   "nbconvert_exporter": "python",
   "pygments_lexer": "ipython3",
   "version": "3.5.3"
  }
 },
 "nbformat": 4,
 "nbformat_minor": 1
}
